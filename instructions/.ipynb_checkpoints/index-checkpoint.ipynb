{
 "cells": [
  {
   "cell_type": "markdown",
   "id": "7e82864b-9300-45ed-b984-b30c6e3efbc9",
   "metadata": {},
   "source": [
    "# Cocktail Quiz"
   ]
  },
  {
   "cell_type": "markdown",
   "id": "e333fb0d-ff2d-4960-a562-4dd6130d6120",
   "metadata": {},
   "source": [
    "### Introduction"
   ]
  },
  {
   "cell_type": "markdown",
   "id": "66a0cc45-697a-41cc-9803-72c73a63d9d6",
   "metadata": {},
   "source": [
    "In this lesson, we'll build an application that gathers data from [The Cocktail DB](https://www.thecocktaildb.com/api.php).\n",
    "\n",
    "Let's get started."
   ]
  },
  {
   "cell_type": "markdown",
   "id": "8532c73c-b2bb-4e43-bb55-e5fc58dd1e94",
   "metadata": {},
   "source": [
    "### Making an API Call"
   ]
  },
  {
   "cell_type": "markdown",
   "id": "eb729b3c-3867-4be0-8e4b-20bad108a76d",
   "metadata": {},
   "source": [
    "We can search for information on a particular drink -- like a margarita -- with something like the following:"
   ]
  },
  {
   "cell_type": "markdown",
   "id": "f4e98cf9-518e-4687-b86d-412727e244f1",
   "metadata": {
    "tags": []
   },
   "source": [
    "```python\n",
    "import requests\n",
    "url = \"https://www.thecocktaildb.com/api/json/v1/1/search.php?s=margarita\"\n",
    "response = requests.get(url)\n",
    "response.json()\n",
    "```"
   ]
  },
  {
   "cell_type": "markdown",
   "id": "1a0851c1-49f5-4fbc-b4eb-2e4d4d0b513b",
   "metadata": {
    "tags": []
   },
   "source": [
    "1. Write a function called `drinks_by_name` that takes an argument of a cocktail name, and then searches for that cocktail. \n",
    "\n",
    "> You can check your work by passing the related test."
   ]
  },
  {
   "cell_type": "code",
   "execution_count": 5,
   "id": "e59767dc-2ff3-4d14-988e-b404342133ae",
   "metadata": {
    "tags": []
   },
   "outputs": [],
   "source": [
    "import requests\n",
    "url = \"https://www.thecocktaildb.com/api/json/v1/1/search.php?s=margarita\"\n",
    "response = requests.get(url)\n",
    "results = response.json()"
   ]
  },
  {
   "cell_type": "markdown",
   "id": "7d9f4434-9505-4679-93b4-c21eb8d29182",
   "metadata": {},
   "source": [
    "2. Next write a function called `drink_by_id` that takes a drink id and returns the corresponding drink.\n",
    "\n",
    "> Look at the [api documentation](https://www.thecocktaildb.com/api.php) for how to do this."
   ]
  },
  {
   "cell_type": "markdown",
   "id": "94dc6b97-2aaa-4284-9edd-cd313dc7acba",
   "metadata": {},
   "source": [
    "3. Then write a tests, and a function called `extract_api_drink` that given the return value from the `drink_by_id` function returns a dictionary with keys of the id, name, main_ingredient, and recipe.\n",
    "\n",
    "For example, given an input of the strawberry_margarita response, seen in `data.py`, it would return the following."
   ]
  },
  {
   "cell_type": "markdown",
   "id": "22c4a431-53e0-4f43-99a0-ec3486183971",
   "metadata": {},
   "source": [
    "```python\n",
    "{'id': '12322',\n",
    " 'name': 'Strawberry Margarita', \n",
    " 'instructions': 'Rub rim of cocktail glass with lemon juice and dip rim in salt. Shake schnapps, tequila, triple sec, lemon juice, and strawberries with ice, strain into the salt-rimmed glass, and serve.', \n",
    "'main_ingredient': 'Strawberry schnapps'}\n",
    "```"
   ]
  },
  {
   "cell_type": "markdown",
   "id": "45eb3178-733d-441d-ae9f-633afb66e281",
   "metadata": {},
   "source": [
    "4. As you can see from the API response for a drink, there are fifteen potential ingredients.  Write a function called `extract_drink_ingredients` that given the return value from the drink_by_id function, returns the name of the drink, and a list of just the present ingredients of each drink. \n",
    "\n",
    "> There **is** a corresponding test for this, so get the test to pass."
   ]
  },
  {
   "cell_type": "markdown",
   "id": "730c73cc-752a-41c8-9b44-c33d9ee32b20",
   "metadata": {},
   "source": [
    "5. Next write a function that given the same input, returns a dictionary with a key of `ingredients_amounts` where the value is a list of tuples with each ingredient and the corresponding amount."
   ]
  },
  {
   "cell_type": "markdown",
   "id": "9ea08bbd-0ee0-4cc5-bc6d-873d9e3f5d86",
   "metadata": {},
   "source": [
    "6. Then write a function where given the list of tuples of ingredients_amounts, converts each of the corresponding amounts to an integer.  Once again, there is a test to pass.\n",
    "\n",
    "> We removed the fraction to make this problem easier -- so your function does not have to handle fractions."
   ]
  },
  {
   "cell_type": "markdown",
   "id": "99b05782-ebc4-4068-998f-07c1b336eb3f",
   "metadata": {},
   "source": [
    "### Reorganizing the codebase"
   ]
  },
  {
   "cell_type": "markdown",
   "id": "f54e3f3e-f607-4438-b314-9c5c1ad37c9b",
   "metadata": {},
   "source": [
    "Now update the codebase so that the tests are in a folder called tests, and the code is in a folder called `src`.  Update the codebase so that all of the tests pass. "
   ]
  },
  {
   "cell_type": "code",
   "execution_count": null,
   "id": "747ed2d3-2843-434f-9769-673a3a2918a0",
   "metadata": {},
   "outputs": [],
   "source": []
  }
 ],
 "metadata": {
  "kernelspec": {
   "display_name": "Python 3 (ipykernel)",
   "language": "python",
   "name": "python3"
  },
  "language_info": {
   "codemirror_mode": {
    "name": "ipython",
    "version": 3
   },
   "file_extension": ".py",
   "mimetype": "text/x-python",
   "name": "python",
   "nbconvert_exporter": "python",
   "pygments_lexer": "ipython3",
   "version": "3.11.1"
  }
 },
 "nbformat": 4,
 "nbformat_minor": 5
}
