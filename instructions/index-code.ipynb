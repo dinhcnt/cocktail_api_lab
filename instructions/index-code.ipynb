{
 "cells": [
  {
   "cell_type": "markdown",
   "id": "d72aaf2b-723b-466d-8b93-00b83734a139",
   "metadata": {},
   "source": [
    "# Write your code here"
   ]
  },
  {
   "cell_type": "markdown",
   "id": "27877bf7-f022-45a9-b391-24d0a3681f9b",
   "metadata": {},
   "source": [
    "1. Now copy and paste the code from the `index.py` file below."
   ]
  },
  {
   "cell_type": "code",
   "execution_count": null,
   "id": "1d07940e-941e-436d-9be3-bed061a82297",
   "metadata": {},
   "outputs": [],
   "source": []
  },
  {
   "cell_type": "markdown",
   "id": "84812d93-b439-434f-94c1-d9b326033c2d",
   "metadata": {},
   "source": [
    "2. And then copy and paste the test from the `test_index.py`file."
   ]
  },
  {
   "cell_type": "code",
   "execution_count": null,
   "id": "aca7f670-607b-4d75-b92d-d2ab4047a045",
   "metadata": {},
   "outputs": [],
   "source": []
  }
 ],
 "metadata": {
  "kernelspec": {
   "display_name": "Python 3 (ipykernel)",
   "language": "python",
   "name": "python3"
  },
  "language_info": {
   "codemirror_mode": {
    "name": "ipython",
    "version": 3
   },
   "file_extension": ".py",
   "mimetype": "text/x-python",
   "name": "python",
   "nbconvert_exporter": "python",
   "pygments_lexer": "ipython3",
   "version": "3.11.1"
  }
 },
 "nbformat": 4,
 "nbformat_minor": 5
}
